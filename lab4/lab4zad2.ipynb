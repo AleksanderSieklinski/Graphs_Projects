{
  "cells": [
    {
      "cell_type": "code",
      "execution_count": 11,
      "metadata": {
        "id": "deYkAGb39dMX"
      },
      "outputs": [],
      "source": [
        "import numpy as np\n",
        "import random\n",
        "\n",
        "class dGraph:\n",
        "    def __init__(self,adjacencyList):\n",
        "        self.adjacencyList = adjacencyList\n",
        "        self.adjacencyMatrix = self.toAdjacencyMatrix(adjacencyList)\n",
        "        self.incidenceMatrix = self.toIncidenceMatrix(adjacencyList)\n",
        "\n",
        "    def toAdjacencyMatrix(self,adjacencyList):\n",
        "        n = len(adjacencyList)\n",
        "        adjacencyMatrix = np.zeros((n,n))\n",
        "        for i in range(n):\n",
        "            for neib in adjacencyList[i]:\n",
        "                adjacencyMatrix[i][neib] = 1\n",
        "        return adjacencyMatrix\n",
        "\n",
        "    def toIncidenceMatrix(self,adjacencyList):\n",
        "        n = len(adjacencyList)\n",
        "        incidenceMatrix = []\n",
        "        for i in range(len(adjacencyList)):\n",
        "            for neib in adjacencyList[i]:\n",
        "                newEdge = [0 for i in range(n)]\n",
        "                newEdge[i] = -1\n",
        "                newEdge[neib] = 1\n",
        "                incidenceMatrix.append(newEdge)\n",
        "        return np.array(incidenceMatrix).transpose()\n",
        "\n",
        "    def getRandomDGraph(n,p):\n",
        "        adjacencyList = []\n",
        "        for i in range(n):\n",
        "            neibList = []\n",
        "            for j in range(n):\n",
        "                random_float = random.random()\n",
        "                if p>=random_float and j!=i:\n",
        "                    neibList.append(j)\n",
        "            adjacencyList.append(neibList)\n",
        "        return dGraph(adjacencyList)"
      ]
    },
    {
      "cell_type": "code",
      "source": [
        "    def kosaraju(graph):\n",
        "        n = len(graph.adjacencyList)\n",
        "\n",
        "        #pierwsze przejscie dfs\n",
        "        def dfs1(v, visited, stack):\n",
        "            visited[v] = True\n",
        "            for neighbor in graph.adjacencyList[v]:\n",
        "                if not visited[neighbor]:\n",
        "                    dfs1(neighbor, visited, stack)\n",
        "            stack.append(v)\n",
        "\n",
        "        #Transponowanie grafu\n",
        "        def transpose(graph):\n",
        "            n = len(graph.adjacencyList)\n",
        "            transposedAdjList = [[] for _ in range(n)]\n",
        "            for i in range(n):\n",
        "                for neighbor in graph.adjacencyList[i]:\n",
        "                    transposedAdjList[neighbor].append(i)\n",
        "            return dGraph(transposedAdjList)\n",
        "\n",
        "        #Drugie przejscie DFS, by znalezc silnie spojne skladowe\n",
        "        def dfs2(v, visited, component):\n",
        "            visited[v] = True\n",
        "            component.append(v)\n",
        "            for neighbor in transposedGraph.adjacencyList[v]:\n",
        "                if not visited[neighbor]:\n",
        "                    dfs2(neighbor, visited, component)\n",
        "\n",
        "\n",
        "        #glowna czesc algorytmu\n",
        "        visited = [False] * n\n",
        "        stack = []\n",
        "        for i in range(n):\n",
        "            if not visited[i]:\n",
        "                dfs1(i, visited, stack)\n",
        "\n",
        "        transposedGraph = transpose(graph)\n",
        "\n",
        "        visited = [False] * n\n",
        "        res = []\n",
        "        while stack:\n",
        "            v = stack.pop()\n",
        "            if not visited[v]:\n",
        "                component = []\n",
        "                dfs2(v, visited, component)\n",
        "                res.append(component)\n",
        "\n",
        "        return res"
      ],
      "metadata": {
        "id": "B_G0BPURi7ao"
      },
      "execution_count": 12,
      "outputs": []
    },
    {
      "cell_type": "code",
      "source": [
        "n = 5\n",
        "graph = dGraph.getRandomDGraph(n, 0.2)\n",
        "graph.adjacencyList"
      ],
      "metadata": {
        "colab": {
          "base_uri": "https://localhost:8080/"
        },
        "id": "hEArF2UziDJR",
        "outputId": "8b1718c4-5eb6-4d80-f2dc-f9d49e2d5c63"
      },
      "execution_count": 30,
      "outputs": [
        {
          "output_type": "execute_result",
          "data": {
            "text/plain": [
              "[[], [3], [1], [2], [2]]"
            ]
          },
          "metadata": {},
          "execution_count": 30
        }
      ]
    },
    {
      "cell_type": "code",
      "source": [
        "res = kosaraju(graph)\n",
        "\n",
        "print(\"Silnie spójne składowe:\", res)"
      ],
      "metadata": {
        "colab": {
          "base_uri": "https://localhost:8080/"
        },
        "id": "xoM7zVoaijdO",
        "outputId": "b8eae1ff-b6d1-499b-9a08-c31a8f2c620f"
      },
      "execution_count": 29,
      "outputs": [
        {
          "output_type": "stream",
          "name": "stdout",
          "text": [
            "Silnie spójne składowe: [[0, 4, 2, 1], [3]]\n"
          ]
        }
      ]
    }
  ],
  "metadata": {
    "colab": {
      "provenance": []
    },
    "kernelspec": {
      "display_name": "Python 3",
      "name": "python3"
    },
    "language_info": {
      "name": "python"
    }
  },
  "nbformat": 4,
  "nbformat_minor": 0
}