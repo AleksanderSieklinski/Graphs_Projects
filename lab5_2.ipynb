{
 "cells": [
  {
   "cell_type": "markdown",
   "metadata": {},
   "source": [
    "Zastosować algorytm Forda-Fulkersona do znalezienia maksymalnego przepływu na sieci z zadania pierwszego. Ścieżki powiększające wybierać jako ścieżki o najmniejszej liczbie krawędzi. Do ich wyszukiwania użyć przeszukiwania wszerz."
   ]
  },
  {
   "cell_type": "code",
   "execution_count": 1,
   "metadata": {},
   "outputs": [],
   "source": [
    "def ford_fulkerson(graph, source, sink):\n",
    "    flow = [[0] * len(row) for row in graph]\n",
    "    while True:\n",
    "        path, min_capacity = bfs(graph, flow, source, sink)\n",
    "        if min_capacity is None:\n",
    "            break\n",
    "        v = sink\n",
    "        while v != source:\n",
    "            u = path[v]\n",
    "            flow[u][v] += min_capacity\n",
    "            flow[v][u] -= min_capacity\n",
    "            v = u\n",
    "    max_flow = sum(flow[source])\n",
    "    return max_flow\n",
    "def bfs(graph, flow, source, sink):\n",
    "    visited = [False] * len(graph)\n",
    "    path = [-1] * len(graph)\n",
    "    queue = [(source, float('inf'))]\n",
    "    visited[source] = True\n",
    "    while queue:\n",
    "        u, min_capacity_u = queue.pop(0)\n",
    "        for v, capacity in enumerate(graph[u]):\n",
    "            residual_capacity = capacity - flow[u][v]\n",
    "            if not visited[v] and residual_capacity > 0:\n",
    "                visited[v] = True\n",
    "                min_capacity = min(min_capacity_u, residual_capacity)\n",
    "                path[v] = u\n",
    "                if v == sink:\n",
    "                    return path, min_capacity\n",
    "                queue.append((v, min_capacity))\n",
    "    return None, None"
   ]
  },
  {
   "cell_type": "code",
   "execution_count": 97,
   "metadata": {},
   "outputs": [
    {
     "name": "stdout",
     "output_type": "stream",
     "text": [
      "Source:  [0]\n",
      "Sink:  [48]\n",
      "Matrix: \n",
      " [[ 0  4  7 ...  0  0  0]\n",
      " [ 0  0  0 ...  0  0  0]\n",
      " [ 0  0  0 ...  0  0  0]\n",
      " ...\n",
      " [ 0  0  0 ...  0  6 10]\n",
      " [ 0  0  0 ...  0  0  8]\n",
      " [ 0  0  0 ...  0  0  0]]\n",
      "The maximum possible flow (my implementation): 14\n",
      "The maximum possible flow (networkx implementation): 14\n"
     ]
    }
   ],
   "source": [
    "import networkx as nx\n",
    "import lab5_zad1 as zad1\n",
    "def main():\n",
    "    N = 9 \n",
    "    G, cappacity_matrix, source, sink, listOfClusters  = zad1.createFlowNetwork(N)\n",
    "    print(\"Source: \", source)\n",
    "    print(\"Sink: \", sink)\n",
    "    print(\"Matrix: \\n\", cappacity_matrix)\n",
    "    source = source[0]\n",
    "    source = int(source)\n",
    "    sink = sink[0]\n",
    "    sink = int(sink)\n",
    "    capacity_list = cappacity_matrix.tolist()\n",
    "    capacity_list = [[int(capacity) for capacity in row] for row in capacity_list]\n",
    "    max_flow = ford_fulkerson(capacity_list, source, sink)\n",
    "    print(f\"The maximum possible flow (my implementation): {max_flow}\")\n",
    "    # G = nx.DiGraph()\n",
    "    # for i, row in enumerate(capacity_list):\n",
    "    #     for j, capacity in enumerate(row):\n",
    "    #         if capacity > 0:\n",
    "    #             G.add_edge(i, j, capacity=capacity)\n",
    "    flow_value, flow_dict = nx.maximum_flow(G, source, sink)\n",
    "    print(f\"The maximum possible flow (networkx implementation): {flow_value}\")\n",
    "if __name__ == \"__main__\":\n",
    "    main()"
   ]
  }
 ],
 "metadata": {
  "kernelspec": {
   "display_name": "Python 3",
   "language": "python",
   "name": "python3"
  },
  "language_info": {
   "codemirror_mode": {
    "name": "ipython",
    "version": 3
   },
   "file_extension": ".py",
   "mimetype": "text/x-python",
   "name": "python",
   "nbconvert_exporter": "python",
   "pygments_lexer": "ipython3",
   "version": "3.10.12"
  }
 },
 "nbformat": 4,
 "nbformat_minor": 2
}
