{
 "cells": [
  {
   "cell_type": "markdown",
   "metadata": {},
   "source": [
    "Zastosować algorytm Forda-Fulkersona do znalezienia maksymalnego przepływu na sieci z zadania pierwszego. Ścieżki powiększające wybierać jako ścieżki o najmniejszej liczbie krawędzi. Do ich wyszukiwania użyć przeszukiwania wszerz."
   ]
  },
  {
   "cell_type": "code",
   "execution_count": 1,
   "metadata": {},
   "outputs": [],
   "source": [
    "def ford_fulkerson(graph, source, sink):\n",
    "    max_flow = 0\n",
    "    while True:\n",
    "        # Find the augmenting path using BFS\n",
    "        path, path_flow = bfs(graph, source, sink)\n",
    "        if path_flow is None:\n",
    "            # If there is no augmenting path, we have found the maximum flow\n",
    "            break\n",
    "        # Add the path flow to the maximum flow\n",
    "        max_flow += path_flow\n",
    "        # Update the capacities in the residual graph\n",
    "        v = sink\n",
    "        while v != source:\n",
    "            u = path[v]\n",
    "            graph[u][v] -= path_flow\n",
    "            graph[v][u] += path_flow\n",
    "            v = path[v]\n",
    "    return max_flow\n",
    "\n",
    "def bfs(graph, source, sink):\n",
    "    visited = [False] * len(graph)\n",
    "    queue = [(source, float('inf'))]\n",
    "    path = [-1] * len(graph)\n",
    "    while queue:\n",
    "        u, flow = queue.pop(0)\n",
    "        visited[u] = True\n",
    "        for v, capacity in enumerate(graph[u]):\n",
    "            if not visited[v] and capacity > 0:\n",
    "                path[v] = u\n",
    "                new_flow = min(flow, capacity)\n",
    "                if v == sink:\n",
    "                    return path, new_flow\n",
    "                queue.append((v, new_flow))\n",
    "    return path, None"
   ]
  },
  {
   "cell_type": "code",
   "execution_count": 2,
   "metadata": {},
   "outputs": [
    {
     "name": "stdout",
     "output_type": "stream",
     "text": [
      "The maximum possible flow is 23\n"
     ]
    }
   ],
   "source": [
    "import numpy as np\n",
    "from collections import defaultdict\n",
    "def main():\n",
    "    # Example graph\n",
    "    graph = [[0, 16, 13, 0, 0, 0],\n",
    "             [0, 0, 10, 12, 0, 0],\n",
    "             [0, 4, 0, 0, 14, 0],\n",
    "             [0, 0, 9, 0, 0, 20],\n",
    "             [0, 0, 0, 7, 0, 4],\n",
    "             [0, 0, 0, 0, 0, 0]]\n",
    "    source = 0\n",
    "    sink = 5\n",
    "    max_flow = ford_fulkerson(graph, source, sink)\n",
    "    print(f\"The maximum possible flow is {max_flow}\")\n",
    "\n",
    "if __name__ == \"__main__\":\n",
    "    main()"
   ]
  }
 ],
 "metadata": {
  "kernelspec": {
   "display_name": "Python 3",
   "language": "python",
   "name": "python3"
  },
  "language_info": {
   "codemirror_mode": {
    "name": "ipython",
    "version": 3
   },
   "file_extension": ".py",
   "mimetype": "text/x-python",
   "name": "python",
   "nbconvert_exporter": "python",
   "pygments_lexer": "ipython3",
   "version": "3.11.9"
  }
 },
 "nbformat": 4,
 "nbformat_minor": 2
}
