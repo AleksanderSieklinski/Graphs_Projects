{
 "cells": [
  {
   "cell_type": "code",
   "execution_count": 4,
   "id": "a02fd25e-fcb5-40d9-a4ad-3625748f6ac6",
   "metadata": {},
   "outputs": [
    {
     "name": "stdout",
     "output_type": "stream",
     "text": [
      "{'1': 0.04777, '2': 0.11002, '3': 0.14914, '4': 0.11091, '5': 0.08328, '6': 0.05712, '7': 0.13244, '8': 0.12793, '9': 0.06822, '10': 0.11317}\n"
     ]
    }
   ],
   "source": [
    "import numpy as np\n",
    "import random\n",
    "\n",
    "def random_walk_pagerank(graph, d=0.15, num_iterations=100000):\n",
    "    nodes = list(graph.keys())\n",
    "    num_nodes = len(nodes)\n",
    "    visits = {node: 0 for node in nodes}\n",
    "    \n",
    "    current_node = random.choice(nodes)\n",
    "    \n",
    "    for _ in range(num_iterations):\n",
    "        if random.random() < d:\n",
    "            current_node = random.choice(nodes)\n",
    "        else:\n",
    "            neighbors = graph[current_node]\n",
    "            if neighbors:\n",
    "                current_node = random.choice(neighbors)\n",
    "            else:\n",
    "                current_node = random.choice(nodes)\n",
    "        \n",
    "        visits[current_node] += 1\n",
    "    \n",
    "    pagerank = {node: visits[node] / num_iterations for node in nodes}\n",
    "    return pagerank\n",
    "\n",
    "# Przykładowy graf\n",
    "# graph = {\n",
    "#     'A': ['B', 'C'],\n",
    "#     'B': ['C'],\n",
    "#     'C': ['A'],\n",
    "#     'D': ['C']\n",
    "# }\n",
    "\n",
    "graph = {\"1\": [\"3\" , \"6\" , \"7\", \"8\", \"9\", \"10\"],\n",
    "     \"2\": [\"4\" , \"5\" , \"7\", \"10\"],\n",
    "     \"3\": [\"1\" , \"2\" , \"4\", \"5\", \"8\", \"9\"],\n",
    "     \"4\": [\"2\" , \"3\" , \"6\", \"9\"],\n",
    "     \"5\": [\"1\" , \"2\" , \"3\", \"6\", \"8\", \"10\"],\n",
    "     \"6\": [\"3\" , \"7\", \"10\"],\n",
    "     \"7\": [\"2\" , \"3\" , \"4\", \"10\"],\n",
    "     \"8\": [\"3\" , \"7\" , \"8\"],\n",
    "     \"9\": [\"2\" , \"3\" , \"7\", \"8\", \"10\"],\n",
    "     \"10\": [\"4\", \"5\", \"7\", \"8\"]\n",
    "}\n",
    "\n",
    "pagerank = random_walk_pagerank(graph)\n",
    "print(pagerank)"
   ]
  },
  {
   "cell_type": "code",
   "execution_count": 5,
   "id": "1b60214e-48fa-459b-afa9-93d31edec7d1",
   "metadata": {},
   "outputs": [
    {
     "name": "stdout",
     "output_type": "stream",
     "text": [
      "{'1': 0.04797456580882837, '2': 0.11133188461082788, '3': 0.14895435755304365, '4': 0.11202074069328408, '5': 0.08380728345045076, '6': 0.05747350270905406, '7': 0.13276921055450983, '8': 0.1258015917826386, '9': 0.06670267154025473, '10': 0.11316419129710742}\n"
     ]
    }
   ],
   "source": [
    "def matrix_based_pagerank(graph, d=0.15, num_iterations=100):\n",
    "    nodes = list(graph.keys())\n",
    "    num_nodes = len(nodes)\n",
    "    node_index = {node: i for i, node in enumerate(nodes)}\n",
    "    \n",
    "    P = np.zeros((num_nodes, num_nodes))\n",
    "    \n",
    "    for node, neighbors in graph.items():\n",
    "        if neighbors:\n",
    "            for neighbor in neighbors:\n",
    "                P[node_index[neighbor], node_index[node]] = 1 / len(neighbors)\n",
    "        else:\n",
    "            P[:, node_index[node]] = 1 / num_nodes\n",
    "    \n",
    "    P = (1 - d) * P + d / num_nodes\n",
    "    \n",
    "    p = np.ones(num_nodes) / num_nodes\n",
    "    \n",
    "    for _ in range(num_iterations):\n",
    "        p = np.dot(P, p)\n",
    "    \n",
    "    pagerank = {nodes[i]: p[i] for i in range(num_nodes)}\n",
    "    return pagerank\n",
    "\n",
    "graph = {\"1\": [\"3\" , \"6\" , \"7\", \"8\", \"9\", \"10\"],\n",
    "     \"2\": [\"4\" , \"5\" , \"7\", \"10\"],\n",
    "     \"3\": [\"1\" , \"2\" , \"4\", \"5\", \"8\", \"9\"],\n",
    "     \"4\": [\"2\" , \"3\" , \"6\", \"9\"],\n",
    "     \"5\": [\"1\" , \"2\" , \"3\", \"6\", \"8\", \"10\"],\n",
    "     \"6\": [\"3\" , \"7\", \"10\"],\n",
    "     \"7\": [\"2\" , \"3\" , \"4\", \"10\"],\n",
    "     \"8\": [\"3\" , \"7\" , \"8\"],\n",
    "     \"9\": [\"2\" , \"3\" , \"7\", \"8\", \"10\"],\n",
    "     \"10\": [\"4\", \"5\", \"7\", \"8\"]\n",
    "}\n",
    "\n",
    "pagerank = matrix_based_pagerank(graph)\n",
    "print(pagerank)"
   ]
  }
 ],
 "metadata": {
  "kernelspec": {
   "display_name": "Python 3 (ipykernel)",
   "language": "python",
   "name": "python3"
  },
  "language_info": {
   "codemirror_mode": {
    "name": "ipython",
    "version": 3
   },
   "file_extension": ".py",
   "mimetype": "text/x-python",
   "name": "python",
   "nbconvert_exporter": "python",
   "pygments_lexer": "ipython3",
   "version": "3.10.12"
  }
 },
 "nbformat": 4,
 "nbformat_minor": 5
}
