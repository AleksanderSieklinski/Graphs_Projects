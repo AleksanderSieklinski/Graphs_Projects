{
 "cells": [
  {
   "cell_type": "code",
   "execution_count": 69,
   "id": "d47685ea-4758-4ad0-8f70-a6812685d883",
   "metadata": {},
   "outputs": [],
   "source": [
    "import numpy as np\n",
    "import random\n",
    "\n",
    "class dGraph:\n",
    "    def __init__(self,adjacencyList):\n",
    "        self.adjacencyList = adjacencyList\n",
    "        self.adjacencyMatrix = self.toAdjacencyMatrix(adjacencyList)\n",
    "        self.incidenceMatrix = self.toIncidenceMatrix(adjacencyList)\n",
    "        \n",
    "    def toAdjacencyMatrix(self,adjacencyList):\n",
    "        n = len(adjacencyList)\n",
    "        adjacencyMatrix = np.zeros((n,n))\n",
    "        for i in range(n):\n",
    "            for neib in adjacencyList[i]:\n",
    "                adjacencyMatrix[i][neib] = 1\n",
    "        return adjacencyMatrix\n",
    "        \n",
    "    def toIncidenceMatrix(self,adjacencyList):\n",
    "        n = len(adjacencyList)\n",
    "        incidenceMatrix = []\n",
    "        for i in range(len(adjacencyList)):\n",
    "            for neib in adjacencyList[i]:\n",
    "                newEdge = [0 for i in range(n)]\n",
    "                newEdge[i] = -1\n",
    "                newEdge[neib] = 1\n",
    "                incidenceMatrix.append(newEdge)\n",
    "        return np.array(incidenceMatrix).transpose()\n",
    "        \n",
    "    def getRandomDGraph(n,p):\n",
    "        adjacencyList = []\n",
    "        for i in range(n):\n",
    "            neibList = []\n",
    "            for j in range(n):\n",
    "                random_float = random.random()\n",
    "                if p>=random_float and j!=i:\n",
    "                    neibList.append(j)\n",
    "            adjacencyList.append(neibList)\n",
    "        return dGraph(adjacencyList)\n",
    "        "
   ]
  },
  {
   "cell_type": "code",
   "execution_count": 70,
   "id": "75d76d94-2ec5-4a35-943d-288078ede8ce",
   "metadata": {},
   "outputs": [],
   "source": [
    "graph = dGraph([[6],[0,2,5,6],[1,5],[2,4],[2],[4],[0]])"
   ]
  },
  {
   "cell_type": "code",
   "execution_count": 71,
   "id": "d576cb0a-21fa-47c6-8f4d-9838d2cb416c",
   "metadata": {},
   "outputs": [
    {
     "data": {
      "text/plain": [
       "array([[0., 0., 0., 0., 0., 0., 1.],\n",
       "       [1., 0., 1., 0., 0., 1., 1.],\n",
       "       [0., 1., 0., 0., 0., 1., 0.],\n",
       "       [0., 0., 1., 0., 1., 0., 0.],\n",
       "       [0., 0., 1., 0., 0., 0., 0.],\n",
       "       [0., 0., 0., 0., 1., 0., 0.],\n",
       "       [1., 0., 0., 0., 0., 0., 0.]])"
      ]
     },
     "execution_count": 71,
     "metadata": {},
     "output_type": "execute_result"
    }
   ],
   "source": [
    "graph.adjacencyMatrix"
   ]
  },
  {
   "cell_type": "code",
   "execution_count": 72,
   "id": "1770a453-9c6e-4aed-9a7e-5f5ae3a36e72",
   "metadata": {},
   "outputs": [
    {
     "data": {
      "text/plain": [
       "array([[-1,  1,  0,  0,  0,  0,  0,  0,  0,  0,  0,  1],\n",
       "       [ 0, -1, -1, -1, -1,  1,  0,  0,  0,  0,  0,  0],\n",
       "       [ 0,  0,  1,  0,  0, -1, -1,  1,  0,  1,  0,  0],\n",
       "       [ 0,  0,  0,  0,  0,  0,  0, -1, -1,  0,  0,  0],\n",
       "       [ 0,  0,  0,  0,  0,  0,  0,  0,  1, -1,  1,  0],\n",
       "       [ 0,  0,  0,  1,  0,  0,  1,  0,  0,  0, -1,  0],\n",
       "       [ 1,  0,  0,  0,  1,  0,  0,  0,  0,  0,  0, -1]])"
      ]
     },
     "execution_count": 72,
     "metadata": {},
     "output_type": "execute_result"
    }
   ],
   "source": [
    "graph.incidenceMatrix"
   ]
  },
  {
   "cell_type": "code",
   "execution_count": 80,
   "id": "7f8a52f8-8e9d-42b7-a168-314c79af5419",
   "metadata": {},
   "outputs": [
    {
     "data": {
      "text/plain": [
       "[[2], [2], [1], [2], [], [3], [1, 4]]"
      ]
     },
     "execution_count": 80,
     "metadata": {},
     "output_type": "execute_result"
    }
   ],
   "source": [
    "graph = dGraph.getRandomDGraph(n,0.1)\n",
    "graph.adjacencyList"
   ]
  },
  {
   "cell_type": "code",
   "execution_count": 81,
   "id": "9e6a16ad-a651-44a6-817f-eb66bf2fcb7b",
   "metadata": {},
   "outputs": [
    {
     "data": {
      "text/plain": [
       "[[1, 2, 3, 4, 5, 6],\n",
       " [3, 4, 6],\n",
       " [4, 5, 6],\n",
       " [0, 1, 2, 4, 5],\n",
       " [1, 2, 3, 5, 6],\n",
       " [0, 1, 3, 4, 6],\n",
       " [0, 1, 2, 4]]"
      ]
     },
     "execution_count": 81,
     "metadata": {},
     "output_type": "execute_result"
    }
   ],
   "source": [
    "graph = dGraph.getRandomDGraph(n,0.8)\n",
    "graph.adjacencyList"
   ]
  }
 ],
 "metadata": {
  "kernelspec": {
   "display_name": "Python 3 (ipykernel)",
   "language": "python",
   "name": "python3"
  },
  "language_info": {
   "codemirror_mode": {
    "name": "ipython",
    "version": 3
   },
   "file_extension": ".py",
   "mimetype": "text/x-python",
   "name": "python",
   "nbconvert_exporter": "python",
   "pygments_lexer": "ipython3",
   "version": "3.10.13"
  }
 },
 "nbformat": 4,
 "nbformat_minor": 5
}
